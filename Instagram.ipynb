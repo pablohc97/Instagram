{
 "cells": [
  {
   "cell_type": "code",
   "execution_count": null,
   "metadata": {},
   "outputs": [],
   "source": [
    "from selenium import webdriver\n",
    "from selenium.webdriver.common.keys import Keys\n",
    "from selenium.webdriver.support.ui import WebDriverWait\n",
    "from selenium.webdriver.common.by import By\n",
    "from selenium.webdriver.support import expected_conditions as EC\n",
    "import time"
   ]
  },
  {
   "cell_type": "code",
   "execution_count": null,
   "metadata": {},
   "outputs": [],
   "source": [
    "with open('./credentials.txt') as f:\n",
    "    lines = f.read().splitlines()\n",
    "    username, password = lines[0], lines[1]"
   ]
  },
  {
   "cell_type": "code",
   "execution_count": null,
   "metadata": {},
   "outputs": [],
   "source": [
    "def get_number_followers():\n",
    "    driver.get(f'https://www.instagram.com/' + username + '/')\n",
    "    followers = driver.find_element_by_xpath(f'//a[@href=\"/' + username + '/followers/\"]')\n",
    "    number_followers = int(followers.text.split(' ')[0])\n",
    "    return number_followers\n",
    "    \n",
    "    \n",
    "def get_number_followings():\n",
    "    driver.get(f'https://www.instagram.com/' + username + '/')\n",
    "    followings = driver.find_element_by_xpath(f'//a[@href=\"/' + username + '/following/\"]')\n",
    "    number_followings = int(followings.text.split(' ')[0])\n",
    "    return number_followings\n",
    "    \n",
    "    \n",
    "def get_list_followers():\n",
    "    driver.get(f'https://www.instagram.com/' + username + '/')\n",
    "    followers = driver.find_element_by_xpath(f'//a[@href=\"/' + username + '/followers/\"]')\n",
    "    number_followers = int(followers.text.split(' ')[0])\n",
    "    time.sleep(1)\n",
    "    \n",
    "    followers.click()\n",
    "    followers_window = driver.find_element_by_class_name('isgrP')\n",
    "    time.sleep(1)\n",
    "    \n",
    "    scroll = 0\n",
    "    while scroll <= number_followers/5:\n",
    "        driver.execute_script('arguments[0].scrollTop = arguments[0].scrollTop + arguments[0].offsetHeight;', followers_window)\n",
    "        time.sleep(0.5)\n",
    "        scroll += 1\n",
    "    time.sleep(1)\n",
    "\n",
    "    followers_list = []   \n",
    "    for follower in driver.find_elements_by_class_name('d7ByH'):\n",
    "        try:\n",
    "            followers_list.append(follower.text.split('\\n')[0])\n",
    "        except:\n",
    "            pass\n",
    "\n",
    "    return followers_list\n",
    "\n",
    "\n",
    "def get_list_followings():\n",
    "    driver.get(f'https://www.instagram.com/' + username + '/')\n",
    "    followings = driver.find_element_by_xpath(f'//a[@href=\"/' + username + '/following/\"]')\n",
    "    number_followings = int(followings.text.split(' ')[0])\n",
    "    time.sleep(1)\n",
    "    \n",
    "    followings.click()\n",
    "    followings_window = driver.find_element_by_class_name('isgrP')\n",
    "    time.sleep(1)\n",
    "    \n",
    "    scroll = 0\n",
    "    while scroll <= number_followings/5:\n",
    "        driver.execute_script('arguments[0].scrollTop = arguments[0].scrollTop + arguments[0].offsetHeight;', followings_window)\n",
    "        time.sleep(0.5)\n",
    "        scroll += 1\n",
    "    time.sleep(1)\n",
    "\n",
    "    followings_list = []   \n",
    "    for following in driver.find_elements_by_class_name('d7ByH'):\n",
    "        try:\n",
    "            followings_list.append(following.text.split('\\n')[0])\n",
    "        except:\n",
    "            pass\n",
    "\n",
    "    return followings_list"
   ]
  },
  {
   "cell_type": "code",
   "execution_count": null,
   "metadata": {},
   "outputs": [],
   "source": [
    "driver = webdriver.Chrome(executable_path = r'./chromedriver.exe')\n",
    "driver.get('https://www.instagram.com')\n",
    "time.sleep(1)\n",
    "\n",
    "user = driver.find_element_by_name('username')\n",
    "user.send_keys(username)\n",
    "user = driver.find_element_by_name('password')\n",
    "user.send_keys(password)\n",
    "user.send_keys(Keys.RETURN)\n",
    "time.sleep(10)\n",
    "\n",
    "not_now = 0\n",
    "while not_now <= 1:\n",
    "    try:\n",
    "        WebDriverWait(driver, 1).until(EC.element_to_be_clickable((By.XPATH, \"//button[contains(.,'Ahora no')]\"))).click()\n",
    "        time.sleep(5)\n",
    "    except:\n",
    "        pass\n",
    "    not_now += 1\n",
    "\n",
    "n_followers = get_number_followers()\n",
    "time.sleep(1)\n",
    "n_followings = get_number_followings()\n",
    "print(f'Sigo a {n_followings} personas.')\n",
    "print(f'Tengo {n_followers} seguidores.')\n",
    "time.sleep(2)\n",
    "\n",
    "\n",
    "followings = get_list_followings()\n",
    "print(len(followings))\n",
    "followers = get_list_followers()\n",
    "print(len(followers))"
   ]
  },
  {
   "cell_type": "code",
   "execution_count": null,
   "metadata": {},
   "outputs": [],
   "source": [
    "following_not_followers = set(followings)-set(followers)\n",
    "print(f'Hay {len(following_not_followers)} personas que sigo y no me siguen.')"
   ]
  },
  {
   "cell_type": "code",
   "execution_count": null,
   "metadata": {},
   "outputs": [],
   "source": [
    "followers_not_following = list(set(followers)-set(followings))\n",
    "print(f'Hay {len(followers_not_following)} personas que me siguen y no les sigo.')"
   ]
  }
 ],
 "metadata": {
  "kernelspec": {
   "display_name": "Python 3",
   "language": "python",
   "name": "python3"
  },
  "language_info": {
   "codemirror_mode": {
    "name": "ipython",
    "version": 3
   },
   "file_extension": ".py",
   "mimetype": "text/x-python",
   "name": "python",
   "nbconvert_exporter": "python",
   "pygments_lexer": "ipython3",
   "version": "3.8.3"
  }
 },
 "nbformat": 4,
 "nbformat_minor": 4
}
